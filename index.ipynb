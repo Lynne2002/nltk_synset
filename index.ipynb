{
 "cells": [
  {
   "cell_type": "markdown",
   "id": "8462bc27",
   "metadata": {},
   "source": [
    "# Imports"
   ]
  },
  {
   "cell_type": "code",
   "execution_count": 9,
   "id": "f69d6657",
   "metadata": {},
   "outputs": [
    {
     "name": "stderr",
     "output_type": "stream",
     "text": [
      "[nltk_data] Downloading package wordnet to\n",
      "[nltk_data]     C:\\Users\\Lynne\\AppData\\Roaming\\nltk_data...\n"
     ]
    },
    {
     "data": {
      "text/plain": [
       "True"
      ]
     },
     "execution_count": 9,
     "metadata": {},
     "output_type": "execute_result"
    }
   ],
   "source": [
    "import nltk\n",
    "nltk.download('wordnet')"
   ]
  },
  {
   "cell_type": "code",
   "execution_count": 10,
   "id": "4a2cee92",
   "metadata": {},
   "outputs": [],
   "source": [
    "#Wordnet -> A huge database of words\n",
    "#Corpus -> Multiple sentences - A paragraph or a file\n",
    "\n",
    "from nltk.corpus import wordnet"
   ]
  },
  {
   "cell_type": "markdown",
   "id": "2c2ec084",
   "metadata": {},
   "source": [
    "# Using synset"
   ]
  },
  {
   "cell_type": "code",
   "execution_count": 29,
   "id": "1a545319",
   "metadata": {},
   "outputs": [],
   "source": [
    "#Synset -> Gives us the synonyms of words\n",
    "syns = wordnet.synsets('morning')[0]"
   ]
  },
  {
   "cell_type": "code",
   "execution_count": 30,
   "id": "e904a78b",
   "metadata": {},
   "outputs": [
    {
     "data": {
      "text/plain": [
       "nltk.corpus.reader.wordnet.Synset"
      ]
     },
     "execution_count": 30,
     "metadata": {},
     "output_type": "execute_result"
    }
   ],
   "source": [
    "type(syns)"
   ]
  },
  {
   "cell_type": "code",
   "execution_count": 31,
   "id": "42f30bf7",
   "metadata": {},
   "outputs": [
    {
     "data": {
      "text/plain": [
       "'the time period between dawn and noon'"
      ]
     },
     "execution_count": 31,
     "metadata": {},
     "output_type": "execute_result"
    }
   ],
   "source": [
    "#Gettting the definition of morning\n",
    "syns.definition()"
   ]
  },
  {
   "cell_type": "code",
   "execution_count": 32,
   "id": "098fa393",
   "metadata": {},
   "outputs": [
    {
     "data": {
      "text/plain": [
       "['I spent the morning running errands']"
      ]
     },
     "execution_count": 32,
     "metadata": {},
     "output_type": "execute_result"
    }
   ],
   "source": [
    "#Getting an example of the usage of morning in a sentence\n",
    "syns.examples()"
   ]
  },
  {
   "cell_type": "code",
   "execution_count": 35,
   "id": "64efde6d",
   "metadata": {},
   "outputs": [
    {
     "data": {
      "text/plain": [
       "[Synset('time_period.n.01')]"
      ]
     },
     "execution_count": 35,
     "metadata": {},
     "output_type": "execute_result"
    }
   ],
   "source": [
    "#Getting hypernym of morning\n",
    "#Hypernym -  a broad meaning that more specific words fall under; a superordinate. For example, color is a hypernym of red.\n",
    "syns.hypernyms()"
   ]
  },
  {
   "cell_type": "code",
   "execution_count": 37,
   "id": "178c65c9",
   "metadata": {},
   "outputs": [
    {
     "data": {
      "text/plain": [
       "'n'"
      ]
     },
     "execution_count": 37,
     "metadata": {},
     "output_type": "execute_result"
    }
   ],
   "source": [
    "#Getting the part of speech of morning - Noun\n",
    "syns.pos()"
   ]
  }
 ],
 "metadata": {
  "kernelspec": {
   "display_name": "Python 3 (ipykernel)",
   "language": "python",
   "name": "python3"
  },
  "language_info": {
   "codemirror_mode": {
    "name": "ipython",
    "version": 3
   },
   "file_extension": ".py",
   "mimetype": "text/x-python",
   "name": "python",
   "nbconvert_exporter": "python",
   "pygments_lexer": "ipython3",
   "version": "3.10.3"
  }
 },
 "nbformat": 4,
 "nbformat_minor": 5
}
