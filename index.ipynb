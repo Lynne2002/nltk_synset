{
 "cells": [
  {
   "cell_type": "markdown",
   "id": "0b5ee3e0",
   "metadata": {},
   "source": [
    "# Imports"
   ]
  },
  {
   "cell_type": "code",
   "execution_count": 38,
   "id": "f69d6657",
   "metadata": {},
   "outputs": [],
   "source": [
    "import nltk"
   ]
  },
  {
   "cell_type": "code",
   "execution_count": 39,
   "id": "4a2cee92",
   "metadata": {},
   "outputs": [],
   "source": [
    "#Wordnet -> A huge database of words\n",
    "#Corpus -> Multiple sentences - A paragraph or a file\n",
    "\n",
    "from nltk.corpus import wordnet"
   ]
  },
  {
   "cell_type": "markdown",
   "id": "d52683eb",
   "metadata": {},
   "source": [
    "# Using synset"
   ]
  },
  {
   "cell_type": "code",
   "execution_count": 43,
   "id": "a57f1140",
   "metadata": {},
   "outputs": [],
   "source": [
    "#Synset -> A special kind of a simple interface that is present in NLTK to look up words in WordNet.\n",
    "syns = wordnet.synsets('morning')[0]"
   ]
  },
  {
   "cell_type": "code",
   "execution_count": 44,
   "id": "f99c1667",
   "metadata": {},
   "outputs": [
    {
     "data": {
      "text/plain": [
       "nltk.corpus.reader.wordnet.Synset"
      ]
     },
     "execution_count": 44,
     "metadata": {},
     "output_type": "execute_result"
    }
   ],
   "source": [
    "type(syns)"
   ]
  },
  {
   "cell_type": "code",
   "execution_count": 45,
   "id": "1f07d635",
   "metadata": {},
   "outputs": [
    {
     "data": {
      "text/plain": [
       "'the time period between dawn and noon'"
      ]
     },
     "execution_count": 45,
     "metadata": {},
     "output_type": "execute_result"
    }
   ],
   "source": [
    "#Gettting the definition of morning\n",
    "syns.definition()"
   ]
  },
  {
   "cell_type": "code",
   "execution_count": 46,
   "id": "e2a9719e",
   "metadata": {},
   "outputs": [
    {
     "data": {
      "text/plain": [
       "['I spent the morning running errands']"
      ]
     },
     "execution_count": 46,
     "metadata": {},
     "output_type": "execute_result"
    }
   ],
   "source": [
    "#Getting an example of the usage of morning in a sentence\n",
    "syns.examples()"
   ]
  },
  {
   "cell_type": "code",
   "execution_count": 47,
   "id": "d9e8fcfd",
   "metadata": {},
   "outputs": [
    {
     "data": {
      "text/plain": [
       "[Synset('time_period.n.01')]"
      ]
     },
     "execution_count": 47,
     "metadata": {},
     "output_type": "execute_result"
    }
   ],
   "source": [
    "#Getting hypernym of morning\n",
    "#Hypernym -  a broad meaning that more specific words fall under; a superordinate. For example, color is a hypernym of red.\n",
    "syns.hypernyms()"
   ]
  },
  {
   "cell_type": "code",
   "execution_count": 48,
   "id": "8b0b0f60",
   "metadata": {},
   "outputs": [
    {
     "data": {
      "text/plain": [
       "'n'"
      ]
     },
     "execution_count": 48,
     "metadata": {},
     "output_type": "execute_result"
    }
   ],
   "source": [
    "#Getting the part of speech of morning - Noun\n",
    "syns.pos()"
   ]
  }
 ],
 "metadata": {
  "kernelspec": {
   "display_name": "Python 3 (ipykernel)",
   "language": "python",
   "name": "python3"
  },
  "language_info": {
   "codemirror_mode": {
    "name": "ipython",
    "version": 3
   },
   "file_extension": ".py",
   "mimetype": "text/x-python",
   "name": "python",
   "nbconvert_exporter": "python",
   "pygments_lexer": "ipython3",
   "version": "3.10.3"
  }
 },
 "nbformat": 4,
 "nbformat_minor": 5
}
